{
 "cells": [
  {
   "cell_type": "code",
   "execution_count": 25,
   "metadata": {},
   "outputs": [],
   "source": [
    "def twosum(arr,target):\n",
    "    for i in range(len(arr)):\n",
    "        for j in range(1,len(arr)):\n",
    "            print(\"sumss\",arr[i]+arr[j])\n",
    "            if arr[i]+arr[j] == target and i!=j:\n",
    "                print(\"I and j\",(i,j))\n",
    "                return"
   ]
  },
  {
   "cell_type": "code",
   "execution_count": 21,
   "metadata": {},
   "outputs": [],
   "source": [
    "def newtwosum(nums,target):\n",
    "    for num in range(len(nums)):\n",
    "       nextNumber =  target-nums[num]  \n",
    "       if nextNumber in nums and nums.index(nextNumber)!=num:\n",
    "           print(\"i and j\",(num,nums.index(nextNumber)))\n",
    "           return"
   ]
  },
  {
   "cell_type": "code",
   "execution_count": 26,
   "metadata": {},
   "outputs": [
    {
     "name": "stdout",
     "output_type": "stream",
     "text": [
      "sumss 9\n",
      "sumss 8\n",
      "sumss 6\n",
      "sumss 10\n",
      "sumss 7\n",
      "sumss 6\n",
      "sumss 4\n",
      "sumss 8\n",
      "I and j (2, 3)\n"
     ]
    }
   ],
   "source": [
    "twosum([5,4,2,6],8)"
   ]
  },
  {
   "cell_type": "code",
   "execution_count": 27,
   "metadata": {},
   "outputs": [],
   "source": [
    "data = [54,3,43,54,65]"
   ]
  },
  {
   "cell_type": "code",
   "execution_count": 28,
   "metadata": {},
   "outputs": [
    {
     "name": "stdout",
     "output_type": "stream",
     "text": [
      "i 0\n",
      "num 54\n",
      "i 1\n",
      "num 3\n",
      "i 2\n",
      "num 43\n",
      "i 3\n",
      "num 54\n",
      "i 4\n",
      "num 65\n"
     ]
    },
    {
     "ename": "",
     "evalue": "",
     "output_type": "error",
     "traceback": [
      "\u001b[1;31mThe Kernel crashed while executing code in the current cell or a previous cell. \n",
      "\u001b[1;31mPlease review the code in the cell(s) to identify a possible cause of the failure. \n",
      "\u001b[1;31mClick <a href='https://aka.ms/vscodeJupyterKernelCrash'>here</a> for more info. \n",
      "\u001b[1;31mView Jupyter <a href='command:jupyter.viewOutput'>log</a> for further details."
     ]
    }
   ],
   "source": [
    "for i,num in enumerate(data):\n",
    "    print(\"i\",i)\n",
    "    print(\"num\",num)"
   ]
  },
  {
   "cell_type": "code",
   "execution_count": null,
   "metadata": {},
   "outputs": [],
   "source": []
  }
 ],
 "metadata": {
  "kernelspec": {
   "display_name": "myEnv",
   "language": "python",
   "name": "python3"
  },
  "language_info": {
   "codemirror_mode": {
    "name": "ipython",
    "version": 3
   },
   "file_extension": ".py",
   "mimetype": "text/x-python",
   "name": "python",
   "nbconvert_exporter": "python",
   "pygments_lexer": "ipython3",
   "version": "3.10.14"
  }
 },
 "nbformat": 4,
 "nbformat_minor": 2
}
